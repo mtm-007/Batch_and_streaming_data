{
 "cells": [
  {
   "cell_type": "markdown",
   "id": "155af6df-2b03-485c-9379-f668c17a4b4d",
   "metadata": {},
   "source": [
    "##### nyc data from datatalk\n",
    "https://github.com/DataTalksClub/nyc-tlc-data/?tab=readme-ov-file"
   ]
  },
  {
   "cell_type": "code",
   "execution_count": 16,
   "id": "8c1f08da-edb2-471e-aab5-7be914820b35",
   "metadata": {},
   "outputs": [],
   "source": [
    "import pyspark\n",
    "from pyspark.sql import SparkSession\n",
    "import pandas as pd\n",
    "from pyspark.sql import types\n",
    "from pyspark.sql import functions as F"
   ]
  },
  {
   "cell_type": "code",
   "execution_count": 2,
   "id": "551d71ba-9571-4c2b-bb85-cd630b5d692e",
   "metadata": {},
   "outputs": [
    {
     "name": "stderr",
     "output_type": "stream",
     "text": [
      "Setting default log level to \"WARN\".\n",
      "To adjust logging level use sc.setLogLevel(newLevel). For SparkR, use setLogLevel(newLevel).\n"
     ]
    },
    {
     "name": "stdout",
     "output_type": "stream",
     "text": [
      "24/11/30 23:44:20 WARN NativeCodeLoader: Unable to load native-hadoop library for your platform... using builtin-java classes where applicable\n"
     ]
    }
   ],
   "source": [
    "spark = SparkSession.builder \\\n",
    "    .master(\"local[*]\") \\\n",
    "    .appName('test') \\\n",
    "    .getOrCreate()"
   ]
  },
  {
   "cell_type": "code",
   "execution_count": 3,
   "id": "1adcae5a-4ae5-46bf-bed3-ecacbf514597",
   "metadata": {},
   "outputs": [
    {
     "name": "stdout",
     "output_type": "stream",
     "text": [
      "11908469 fhvhv_tripdata_2021-01.csv\n"
     ]
    }
   ],
   "source": [
    "!wc -l fhvhv_tripdata_2021-01.csv "
   ]
  },
  {
   "cell_type": "code",
   "execution_count": null,
   "id": "77ea4f08-d5f1-46fd-a2ea-89470708e40e",
   "metadata": {},
   "outputs": [],
   "source": [
    "df= spark.read \\\n",
    "    .option(\"header\", \"true\") \\\n",
    "    .csv('fhvhv_tripdata_2021-01.csv')"
   ]
  },
  {
   "cell_type": "code",
   "execution_count": null,
   "id": "b6b71523-175f-4e07-ba52-f56424bab5a5",
   "metadata": {},
   "outputs": [],
   "source": [
    "!head -n 1001 fhvhv_tripdata_2021-01.csv > head.csv"
   ]
  },
  {
   "cell_type": "code",
   "execution_count": 4,
   "id": "60ec39fc-c367-4ab7-8e9f-c938f6a3f8df",
   "metadata": {},
   "outputs": [
    {
     "name": "stdout",
     "output_type": "stream",
     "text": [
      "1001 head.csv\n"
     ]
    }
   ],
   "source": [
    "!wc -l head.csv"
   ]
  },
  {
   "cell_type": "code",
   "execution_count": 5,
   "id": "e7be4ce3-8e22-4d6f-bca0-ccbe3d9ce52d",
   "metadata": {},
   "outputs": [
    {
     "name": "stdout",
     "output_type": "stream",
     "text": [
      "hvfhs_license_num,dispatching_base_num,pickup_datetime,dropoff_datetime,PULocationID,DOLocationID,SR_Flag\n",
      "HV0003,B02682,2021-01-01 00:33:44,2021-01-01 00:49:07,230,166,\n",
      "HV0003,B02682,2021-01-01 00:55:19,2021-01-01 01:18:21,152,167,\n",
      "HV0003,B02764,2021-01-01 00:23:56,2021-01-01 00:38:05,233,142,\n",
      "HV0003,B02764,2021-01-01 00:42:51,2021-01-01 00:45:50,142,143,\n",
      "HV0003,B02764,2021-01-01 00:48:14,2021-01-01 01:08:42,143,78,\n",
      "HV0005,B02510,2021-01-01 00:06:59,2021-01-01 00:43:01,88,42,\n",
      "HV0005,B02510,2021-01-01 00:50:00,2021-01-01 01:04:57,42,151,\n",
      "HV0003,B02764,2021-01-01 00:14:30,2021-01-01 00:50:27,71,226,\n",
      "HV0003,B02875,2021-01-01 00:22:54,2021-01-01 00:30:20,112,255,\n"
     ]
    }
   ],
   "source": [
    "!head -n 10 head.csv"
   ]
  },
  {
   "cell_type": "code",
   "execution_count": 6,
   "id": "3ea6212e-c5d3-4203-853d-bd52d484ff32",
   "metadata": {},
   "outputs": [],
   "source": [
    "df_pandas = pd.read_csv(\"head.csv\")"
   ]
  },
  {
   "cell_type": "code",
   "execution_count": 7,
   "id": "1c2fbb3e-1bd6-4a3d-a451-98548ffc3213",
   "metadata": {},
   "outputs": [
    {
     "data": {
      "text/plain": [
       "hvfhs_license_num        object\n",
       "dispatching_base_num     object\n",
       "pickup_datetime          object\n",
       "dropoff_datetime         object\n",
       "PULocationID              int64\n",
       "DOLocationID              int64\n",
       "SR_Flag                 float64\n",
       "dtype: object"
      ]
     },
     "execution_count": 7,
     "metadata": {},
     "output_type": "execute_result"
    }
   ],
   "source": [
    "df_pandas.dtypes"
   ]
  },
  {
   "cell_type": "code",
   "execution_count": 8,
   "id": "e18ee7e6-acac-4ba8-8508-d1b5cad12fbb",
   "metadata": {},
   "outputs": [
    {
     "name": "stderr",
     "output_type": "stream",
     "text": [
      "/home/MERHAWI/spark/spark-3.3.2-bin-hadoop3/python/pyspark/sql/pandas/conversion.py:474: FutureWarning: iteritems is deprecated and will be removed in a future version. Use .items instead.\n",
      "  for column, series in pdf.iteritems():\n",
      "/home/MERHAWI/spark/spark-3.3.2-bin-hadoop3/python/pyspark/sql/pandas/conversion.py:486: FutureWarning: iteritems is deprecated and will be removed in a future version. Use .items instead.\n",
      "  for column, series in pdf.iteritems():\n"
     ]
    },
    {
     "data": {
      "text/plain": [
       "StructType([StructField('hvfhs_license_num', StringType(), True), StructField('dispatching_base_num', StringType(), True), StructField('pickup_datetime', StringType(), True), StructField('dropoff_datetime', StringType(), True), StructField('PULocationID', LongType(), True), StructField('DOLocationID', LongType(), True), StructField('SR_Flag', DoubleType(), True)])"
      ]
     },
     "execution_count": 8,
     "metadata": {},
     "output_type": "execute_result"
    }
   ],
   "source": [
    "spark.createDataFrame(df_pandas).schema"
   ]
  },
  {
   "cell_type": "code",
   "execution_count": 9,
   "id": "37c35571-a673-4010-9646-ab9ed3937ad0",
   "metadata": {},
   "outputs": [],
   "source": [
    "schema = types.StructType([\n",
    "    types.StructField('hvfhs_license_num', types.StringType(), True),\n",
    "    types.StructField('dispatching_base_num', types.StringType(), True), \n",
    "    types.StructField('pickup_datetime', types.TimestampType(), True), \n",
    "    types.StructField('dropoff_datetime', types.TimestampType(), True), \n",
    "    types.StructField('PULocationID', types.IntegerType(), True), \n",
    "    types.StructField('DOLocationID', types.IntegerType(), True), \n",
    "    types.StructField('SR_Flag', types.StringType(), True)]\n",
    ")"
   ]
  },
  {
   "cell_type": "code",
   "execution_count": 10,
   "id": "c2dadd54-b111-44e2-b47c-ef946c671bd5",
   "metadata": {},
   "outputs": [],
   "source": [
    "df= spark.read \\\n",
    "    .option(\"header\", \"true\") \\\n",
    "    .schema(schema) \\\n",
    "    .csv('fhvhv_tripdata_2021-01.csv')"
   ]
  },
  {
   "cell_type": "code",
   "execution_count": null,
   "id": "59c6e66f-afdf-43c3-b82d-2d3128f3037a",
   "metadata": {},
   "outputs": [],
   "source": [
    "df.show()"
   ]
  },
  {
   "cell_type": "code",
   "execution_count": null,
   "id": "aae67362-aaec-4213-9935-f63d3867ed47",
   "metadata": {},
   "outputs": [],
   "source": [
    "df = df.repartition(24)"
   ]
  },
  {
   "cell_type": "code",
   "execution_count": null,
   "id": "e6ac763c-00aa-4b96-8f47-47bc2481ce4d",
   "metadata": {},
   "outputs": [],
   "source": [
    "df.write.parquet('fhvhv/2021/01')"
   ]
  },
  {
   "cell_type": "code",
   "execution_count": 11,
   "id": "98ad7902-f5ed-4653-be2f-05669de997ff",
   "metadata": {},
   "outputs": [
    {
     "name": "stderr",
     "output_type": "stream",
     "text": [
      "                                                                                \r"
     ]
    }
   ],
   "source": [
    "df = spark.read.parquet('fhvhv/2021/01')"
   ]
  },
  {
   "cell_type": "code",
   "execution_count": 12,
   "id": "4dfb6749-03c5-4ee5-89ca-b38412466d69",
   "metadata": {},
   "outputs": [
    {
     "name": "stdout",
     "output_type": "stream",
     "text": [
      "root\n",
      " |-- hvfhs_license_num: string (nullable = true)\n",
      " |-- dispatching_base_num: string (nullable = true)\n",
      " |-- pickup_datetime: timestamp (nullable = true)\n",
      " |-- dropoff_datetime: timestamp (nullable = true)\n",
      " |-- PULocationID: integer (nullable = true)\n",
      " |-- DOLocationID: integer (nullable = true)\n",
      " |-- SR_Flag: string (nullable = true)\n",
      "\n"
     ]
    }
   ],
   "source": [
    "df.printSchema()"
   ]
  },
  {
   "cell_type": "code",
   "execution_count": 15,
   "id": "398a4199-0aa3-4aed-9f28-a30c2c1af2ef",
   "metadata": {},
   "outputs": [
    {
     "name": "stdout",
     "output_type": "stream",
     "text": [
      "+-------------------+-------------------+------------+------------+\n",
      "|    pickup_datetime|   dropoff_datetime|PULocationID|DOLocationID|\n",
      "+-------------------+-------------------+------------+------------+\n",
      "|2021-01-04 09:54:16|2021-01-04 10:20:02|         152|         193|\n",
      "|2021-01-03 16:45:51|2021-01-03 16:58:38|         208|         213|\n",
      "|2021-01-04 15:51:39|2021-01-04 16:03:16|         145|         202|\n",
      "|2021-01-02 08:15:37|2021-01-02 08:19:39|          78|         169|\n",
      "|2021-01-01 17:46:05|2021-01-01 18:10:31|         181|         107|\n",
      "|2021-01-02 19:36:41|2021-01-02 19:43:00|         188|          72|\n",
      "|2021-01-01 16:05:01|2021-01-01 16:26:27|          61|           4|\n",
      "|2021-01-03 00:05:40|2021-01-03 00:13:45|         257|          54|\n",
      "|2021-01-04 16:37:58|2021-01-04 16:46:13|          75|          75|\n",
      "|2021-01-01 23:42:33|2021-01-02 00:06:29|         147|         175|\n",
      "|2021-01-05 08:31:45|2021-01-05 08:38:00|          81|          81|\n",
      "|2021-01-01 18:57:24|2021-01-01 19:01:41|          60|          60|\n",
      "|2021-01-04 22:53:58|2021-01-04 23:07:45|         159|         212|\n",
      "|2021-01-01 05:05:55|2021-01-01 05:22:20|         237|         151|\n",
      "|2021-01-03 20:52:40|2021-01-03 21:04:47|          17|          89|\n",
      "|2021-01-05 10:50:10|2021-01-05 11:03:06|          39|          35|\n",
      "|2021-01-02 11:00:11|2021-01-02 11:13:45|           4|         114|\n",
      "|2021-01-03 09:26:38|2021-01-03 09:40:35|          21|         227|\n",
      "|2021-01-05 09:35:00|2021-01-05 10:05:38|         216|          82|\n",
      "|2021-01-04 10:28:50|2021-01-04 10:53:45|         138|          17|\n",
      "+-------------------+-------------------+------------+------------+\n",
      "only showing top 20 rows\n",
      "\n"
     ]
    },
    {
     "name": "stderr",
     "output_type": "stream",
     "text": [
      "                                                                                \r"
     ]
    }
   ],
   "source": [
    "df.select('pickup_datetime','dropoff_datetime','PULocationID','DOLocationID') \\\n",
    "    .filter(df.hvfhs_license_num=='HV0003') \\\n",
    "    .show()"
   ]
  },
  {
   "cell_type": "code",
   "execution_count": 28,
   "id": "05b2a04b-2852-418b-bc7c-d9f65a0a79e5",
   "metadata": {},
   "outputs": [],
   "source": [
    "def user_df_pyspark_function(basenum):\n",
    "    \"\"\"\n",
    "    example user defined pyspark function\n",
    "    \"\"\"\n",
    "    num = int(basenum[1:])\n",
    "    if num % 7==0:\n",
    "        return f's/{num:03x}'\n",
    "    elif num % 3 ==0:\n",
    "        return f'a/{num:03x}'\n",
    "    else:\n",
    "        return f'e/{num:03x}'"
   ]
  },
  {
   "cell_type": "code",
   "execution_count": 25,
   "id": "e0c2f3fa-38e9-4e18-863a-718c4b06011a",
   "metadata": {},
   "outputs": [
    {
     "data": {
      "text/plain": [
       "'a/a7a'"
      ]
     },
     "execution_count": 25,
     "metadata": {},
     "output_type": "execute_result"
    }
   ],
   "source": [
    "user_df_pyspark_function('B02682')"
   ]
  },
  {
   "cell_type": "code",
   "execution_count": 26,
   "id": "a52fdfd3-9216-4d5c-bc06-dab1f9991d44",
   "metadata": {},
   "outputs": [],
   "source": [
    "user_defined_pysp_fun = F.udf(user_df_pyspark_function, returnType=types.StringType())"
   ]
  },
  {
   "cell_type": "code",
   "execution_count": 27,
   "id": "ccfd5887-0525-4357-adbb-f20ba60c350d",
   "metadata": {},
   "outputs": [
    {
     "name": "stderr",
     "output_type": "stream",
     "text": [
      "[Stage 5:>                                                          (0 + 1) / 1]\r"
     ]
    },
    {
     "name": "stdout",
     "output_type": "stream",
     "text": [
      "+-------+-----------+------------+------------+------------+\n",
      "|base_id|pickup_date|dropoff_date|PULocationID|DOLocationID|\n",
      "+-------+-----------+------------+------------+------------+\n",
      "|  e/b3b| 2021-01-04|  2021-01-04|         152|         193|\n",
      "|  e/b14| 2021-01-03|  2021-01-03|         208|         213|\n",
      "|  e/b30| 2021-01-04|  2021-01-04|         145|         202|\n",
      "|  e/95b| 2021-01-02|  2021-01-02|          78|         169|\n",
      "|  e/9ce| 2021-01-02|  2021-01-02|          17|          73|\n",
      "|  e/a39| 2021-01-01|  2021-01-01|         181|         107|\n",
      "|  e/b38| 2021-01-02|  2021-01-02|         188|          72|\n",
      "|  s/b13| 2021-01-01|  2021-01-01|          61|           4|\n",
      "|  a/b49| 2021-01-03|  2021-01-03|         257|          54|\n",
      "|  e/b47| 2021-01-04|  2021-01-04|          75|          75|\n",
      "|  e/b35| 2021-01-01|  2021-01-02|         147|         175|\n",
      "|  e/b32| 2021-01-05|  2021-01-05|          81|          81|\n",
      "|  e/b42| 2021-01-01|  2021-01-01|          60|          60|\n",
      "|  e/b48| 2021-01-04|  2021-01-04|         159|         212|\n",
      "|  e/b3c| 2021-01-01|  2021-01-01|         237|         151|\n",
      "|  e/9ce| 2021-01-03|  2021-01-03|         155|          39|\n",
      "|  e/9ce| 2021-01-04|  2021-01-04|          91|         155|\n",
      "|  e/b3b| 2021-01-03|  2021-01-03|          17|          89|\n",
      "|  e/9ce| 2021-01-01|  2021-01-01|           4|          36|\n",
      "|  e/a39| 2021-01-05|  2021-01-05|          39|          35|\n",
      "+-------+-----------+------------+------------+------------+\n",
      "only showing top 20 rows\n",
      "\n"
     ]
    },
    {
     "name": "stderr",
     "output_type": "stream",
     "text": [
      "                                                                                \r"
     ]
    }
   ],
   "source": [
    "df \\\n",
    "    .withColumn('pickup_date', F.to_date(df.pickup_datetime)) \\\n",
    "    .withColumn('dropoff_date', F.to_date(df.dropoff_datetime)) \\\n",
    "    .withColumn('base_id', user_defined_pysp_fun(df.dispatching_base_num)) \\\n",
    "    .select('base_id', 'pickup_date','dropoff_date','PULocationID','DOLocationID') \\\n",
    "    .show()"
   ]
  },
  {
   "cell_type": "code",
   "execution_count": null,
   "id": "57fb950b-8d98-43ed-b62d-951c6a38ed26",
   "metadata": {},
   "outputs": [],
   "source": []
  }
 ],
 "metadata": {
  "kernelspec": {
   "display_name": "Python 3 (ipykernel)",
   "language": "python",
   "name": "python3"
  },
  "language_info": {
   "codemirror_mode": {
    "name": "ipython",
    "version": 3
   },
   "file_extension": ".py",
   "mimetype": "text/x-python",
   "name": "python",
   "nbconvert_exporter": "python",
   "pygments_lexer": "ipython3",
   "version": "3.10.0"
  }
 },
 "nbformat": 4,
 "nbformat_minor": 5
}
