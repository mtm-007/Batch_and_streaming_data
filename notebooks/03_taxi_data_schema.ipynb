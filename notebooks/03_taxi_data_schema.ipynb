{
 "cells": [
  {
   "cell_type": "code",
   "execution_count": 1,
   "id": "5fec9204-ed91-47d3-9209-56c31a8b7a69",
   "metadata": {},
   "outputs": [],
   "source": [
    "import pyspark\n",
    "from pyspark.sql import SparkSession\n",
    "import pandas as pd\n",
    "from pyspark.sql import types"
   ]
  },
  {
   "cell_type": "code",
   "execution_count": 2,
   "id": "73d583e5-7667-4bc8-a984-27b3c8dc3e26",
   "metadata": {},
   "outputs": [
    {
     "name": "stderr",
     "output_type": "stream",
     "text": [
      "Setting default log level to \"WARN\".\n",
      "To adjust logging level use sc.setLogLevel(newLevel). For SparkR, use setLogLevel(newLevel).\n"
     ]
    },
    {
     "name": "stdout",
     "output_type": "stream",
     "text": [
      "24/12/02 10:21:58 WARN NativeCodeLoader: Unable to load native-hadoop library for your platform... using builtin-java classes where applicable\n"
     ]
    }
   ],
   "source": [
    "spark = SparkSession.builder \\\n",
    "    .master(\"local[*]\") \\\n",
    "    .appName('test') \\\n",
    "    .getOrCreate()"
   ]
  },
  {
   "cell_type": "code",
   "execution_count": 3,
   "id": "4dda2bad-96b6-4018-b9aa-ca3c608db5bd",
   "metadata": {},
   "outputs": [],
   "source": [
    "df_yellow= spark.read \\\n",
    "    .option(\"header\", \"true\") \\\n",
    "    .csv('data/raw/yellow/2021/01/')"
   ]
  },
  {
   "cell_type": "code",
   "execution_count": 5,
   "id": "be3525e8-5a40-4c5b-890e-b5fb5b870bc3",
   "metadata": {},
   "outputs": [],
   "source": [
    "df_yellow_pd = pd.read_csv(\n",
    "    'data/raw/yellow/2021/01/yellow_tripdata_2021_01.csv.gz',\n",
    "    nrows=1000)"
   ]
  },
  {
   "cell_type": "code",
   "execution_count": 6,
   "id": "93ea4d99-5b85-447f-b0dc-ad6ce39734d6",
   "metadata": {},
   "outputs": [
    {
     "name": "stderr",
     "output_type": "stream",
     "text": [
      "/home/MERHAWI/spark/spark-3.3.2-bin-hadoop3/python/pyspark/sql/pandas/conversion.py:474: FutureWarning: iteritems is deprecated and will be removed in a future version. Use .items instead.\n",
      "  for column, series in pdf.iteritems():\n",
      "/home/MERHAWI/spark/spark-3.3.2-bin-hadoop3/python/pyspark/sql/pandas/conversion.py:486: FutureWarning: iteritems is deprecated and will be removed in a future version. Use .items instead.\n",
      "  for column, series in pdf.iteritems():\n"
     ]
    },
    {
     "data": {
      "text/plain": [
       "StructType([StructField('VendorID', LongType(), True), StructField('tpep_pickup_datetime', StringType(), True), StructField('tpep_dropoff_datetime', StringType(), True), StructField('passenger_count', LongType(), True), StructField('trip_distance', DoubleType(), True), StructField('RatecodeID', LongType(), True), StructField('store_and_fwd_flag', StringType(), True), StructField('PULocationID', LongType(), True), StructField('DOLocationID', LongType(), True), StructField('payment_type', LongType(), True), StructField('fare_amount', DoubleType(), True), StructField('extra', DoubleType(), True), StructField('mta_tax', DoubleType(), True), StructField('tip_amount', DoubleType(), True), StructField('tolls_amount', DoubleType(), True), StructField('improvement_surcharge', DoubleType(), True), StructField('total_amount', DoubleType(), True), StructField('congestion_surcharge', DoubleType(), True)])"
      ]
     },
     "execution_count": 6,
     "metadata": {},
     "output_type": "execute_result"
    }
   ],
   "source": [
    "spark.createDataFrame(df_yellow_pd).schema"
   ]
  },
  {
   "cell_type": "code",
   "execution_count": 7,
   "id": "56c89801-b210-4722-83bc-74cca8d7f702",
   "metadata": {},
   "outputs": [],
   "source": [
    "yellow_pd_schema = types.StructType([\n",
    "    types.StructField('VendorID', types.IntegerType(), True), \n",
    "    types.StructField('tpep_pickup_datetime', types.TimestampType(), True), \n",
    "    types.StructField('tpep_dropoff_datetime', types.TimestampType(), True), \n",
    "    types.StructField('passenger_count', types.IntegerType(), True), \n",
    "    types.StructField('trip_distance', types.DoubleType(), True), \n",
    "    types.StructField('RatecodeID', types.IntegerType(), True), \n",
    "    types.StructField('store_and_fwd_flag', types.StringType(), True), \n",
    "    types.StructField('PULocationID', types.IntegerType(), True), \n",
    "    types.StructField('DOLocationID', types.IntegerType(), True), \n",
    "    types.StructField('payment_type', types.IntegerType(), True), \n",
    "    types.StructField('fare_amount', types.DoubleType(), True), \n",
    "    types.StructField('extra', types.DoubleType(), True), \n",
    "    types.StructField('mta_tax', types.DoubleType(), True), \n",
    "    types.StructField('tip_amount', types.DoubleType(), True), \n",
    "    types.StructField('tolls_amount', types.DoubleType(), True), \n",
    "    types.StructField('improvement_surcharge', types.DoubleType(), True), \n",
    "    types.StructField('total_amount', types.DoubleType(), True), \n",
    "    types.StructField('congestion_surcharge', types.DoubleType(), True)])\n",
    "\n",
    "green_pd_schema = types.StructType([\n",
    "        types.StructField('VendorID', types.IntegerType(), True), \n",
    "        types.StructField('lpep_pickup_datetime', types.TimestampType(), True), \n",
    "        types.StructField('lpep_dropoff_datetime', types.TimestampType(), True), \n",
    "        types.StructField('store_and_fwd_flag', types.StringType(), True), \n",
    "        types.StructField('RatecodeID', types.IntegerType(), True), \n",
    "        types.StructField('PULocationID', types.IntegerType(), True), \n",
    "        types.StructField('DOLocationID', types.IntegerType(), True), \n",
    "        types.StructField('passenger_count', types.IntegerType(), True), \n",
    "        types.StructField('trip_distance', types.DoubleType(), True), \n",
    "        types.StructField('fare_amount', types.DoubleType(), True), \n",
    "        types.StructField('extra', types.DoubleType(), True), \n",
    "        types.StructField('mta_tax', types.DoubleType(), True), \n",
    "        types.StructField('tip_amount', types.DoubleType(), True), \n",
    "        types.StructField('tolls_amount', types.DoubleType(), True), \n",
    "        types.StructField('ehail_fee', types.DoubleType(), True), \n",
    "        types.StructField('improvement_surcharge', types.DoubleType(), True), \n",
    "        types.StructField('total_amount', types.DoubleType(), True), \n",
    "        types.StructField('payment_type', types.IntegerType(), True), \n",
    "        types.StructField('trip_type', types.IntegerType(), True), \n",
    "        types.StructField('congestion_surcharge', types.DoubleType(), True)])"
   ]
  },
  {
   "cell_type": "code",
   "execution_count": 8,
   "id": "ce2e68b8-8c30-4f1e-8efc-54e2c271d585",
   "metadata": {},
   "outputs": [],
   "source": [
    "df_yellow= spark.read \\\n",
    "    .option(\"header\", \"true\") \\\n",
    "    .schema(yellow_pd_schema) \\\n",
    "    .csv('data/raw/yellow/2021/01/')"
   ]
  },
  {
   "cell_type": "code",
   "execution_count": null,
   "id": "b6adec2b-d104-480e-90c9-54c2c654c10f",
   "metadata": {},
   "outputs": [],
   "source": [
    "year=2021\n",
    "\n",
    "for month in range(1,13):\n",
    "    print(\"proccessing data for {year}/{month}\")\n",
    "    input_path=f'data/raw/yellow/{year}/{month:02d}/'\n",
    "    output_path=f'data/pq/yellow/{year}/{month:02d}/'\n",
    "\n",
    "    df_yellow= spark.read \\\n",
    "        .option(\"header\", \"true\") \\\n",
    "        .schema(yellow_pd_schema) \\\n",
    "        .csv(input_path)\n",
    "    \n",
    "    \n",
    "    df_yellow \\\n",
    "        .repartition(8) \\\n",
    "        .write.parquet(output_path)"
   ]
  },
  {
   "cell_type": "code",
   "execution_count": 11,
   "id": "2fa5dfa9-3e39-4c6d-ba69-1ee7318b9118",
   "metadata": {},
   "outputs": [],
   "source": [
    "df_green_pd = pd.read_csv('data/raw/green/2021/01/green_tripdata_2021_01.csv.gz', nrows=1000)"
   ]
  },
  {
   "cell_type": "code",
   "execution_count": 12,
   "id": "5ddc835f-986f-4a34-b5d3-289d22886957",
   "metadata": {},
   "outputs": [
    {
     "name": "stderr",
     "output_type": "stream",
     "text": [
      "/home/MERHAWI/spark/spark-3.3.2-bin-hadoop3/python/pyspark/sql/pandas/conversion.py:474: FutureWarning: iteritems is deprecated and will be removed in a future version. Use .items instead.\n",
      "  for column, series in pdf.iteritems():\n",
      "/home/MERHAWI/spark/spark-3.3.2-bin-hadoop3/python/pyspark/sql/pandas/conversion.py:486: FutureWarning: iteritems is deprecated and will be removed in a future version. Use .items instead.\n",
      "  for column, series in pdf.iteritems():\n"
     ]
    },
    {
     "data": {
      "text/plain": [
       "StructType([StructField('VendorID', LongType(), True), StructField('lpep_pickup_datetime', StringType(), True), StructField('lpep_dropoff_datetime', StringType(), True), StructField('store_and_fwd_flag', StringType(), True), StructField('RatecodeID', LongType(), True), StructField('PULocationID', LongType(), True), StructField('DOLocationID', LongType(), True), StructField('passenger_count', LongType(), True), StructField('trip_distance', DoubleType(), True), StructField('fare_amount', DoubleType(), True), StructField('extra', DoubleType(), True), StructField('mta_tax', DoubleType(), True), StructField('tip_amount', DoubleType(), True), StructField('tolls_amount', DoubleType(), True), StructField('ehail_fee', DoubleType(), True), StructField('improvement_surcharge', DoubleType(), True), StructField('total_amount', DoubleType(), True), StructField('payment_type', LongType(), True), StructField('trip_type', LongType(), True), StructField('congestion_surcharge', DoubleType(), True)])"
      ]
     },
     "execution_count": 12,
     "metadata": {},
     "output_type": "execute_result"
    }
   ],
   "source": [
    "spark.createDataFrame(df_green_pd).schema"
   ]
  },
  {
   "cell_type": "code",
   "execution_count": null,
   "id": "f7743b39-1a9f-47cb-9c76-5630322e85f9",
   "metadata": {},
   "outputs": [],
   "source": [
    "year=2021\n",
    "for month in range(1,13):\n",
    "    print(\"proccessing data for {year}/{month}\")\n",
    "    input_path=f'data/raw/green/{year}/{month:02d}/'\n",
    "    output_path=f'data/pq/green/{year}/{month:02d}/'\n",
    "\n",
    "    df_green= spark.read \\\n",
    "        .option(\"header\", \"true\") \\\n",
    "        .schema(green_pd_schema) \\\n",
    "        .csv(input_path)\n",
    "    \n",
    "    \n",
    "    df_green \\\n",
    "        .repartition(8) \\\n",
    "        .write.parquet(output_path)"
   ]
  },
  {
   "cell_type": "code",
   "execution_count": null,
   "id": "702a3a4c-3b79-4a0c-9ea2-5982432477bb",
   "metadata": {},
   "outputs": [],
   "source": []
  }
 ],
 "metadata": {
  "kernelspec": {
   "display_name": "Python 3 (ipykernel)",
   "language": "python",
   "name": "python3"
  },
  "language_info": {
   "codemirror_mode": {
    "name": "ipython",
    "version": 3
   },
   "file_extension": ".py",
   "mimetype": "text/x-python",
   "name": "python",
   "nbconvert_exporter": "python",
   "pygments_lexer": "ipython3",
   "version": "3.10.0"
  }
 },
 "nbformat": 4,
 "nbformat_minor": 5
}
