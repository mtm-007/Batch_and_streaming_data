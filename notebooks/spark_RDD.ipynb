{
 "cells": [
  {
   "cell_type": "code",
   "execution_count": 1,
   "id": "e60eedfd-6c5c-4758-9834-6782cf7cc538",
   "metadata": {},
   "outputs": [
    {
     "name": "stderr",
     "output_type": "stream",
     "text": [
      "Setting default log level to \"WARN\".\n",
      "To adjust logging level use sc.setLogLevel(newLevel). For SparkR, use setLogLevel(newLevel).\n"
     ]
    },
    {
     "name": "stdout",
     "output_type": "stream",
     "text": [
      "24/12/04 03:28:14 WARN NativeCodeLoader: Unable to load native-hadoop library for your platform... using builtin-java classes where applicable\n"
     ]
    }
   ],
   "source": [
    "import pyspark\n",
    "from pyspark.sql import SparkSession\n",
    "from pyspark.sql import functions as F\n",
    "\n",
    "spark = SparkSession.builder \\\n",
    "    .master(\"local[*]\") \\\n",
    "    .appName('test') \\\n",
    "    .getOrCreate()"
   ]
  },
  {
   "cell_type": "code",
   "execution_count": 2,
   "id": "31f49036-7a13-4699-a2fc-8fa8ed698672",
   "metadata": {},
   "outputs": [
    {
     "name": "stderr",
     "output_type": "stream",
     "text": [
      "                                                                                \r"
     ]
    }
   ],
   "source": [
    "df_green = spark.read.parquet('data/pq/green/*/*')"
   ]
  },
  {
   "cell_type": "markdown",
   "id": "5adab814-05ed-45d4-8bc8-e01eb96a9680",
   "metadata": {},
   "source": [
    "```\n",
    "SELECT   \n",
    "    -- Reveneue grouping \n",
    "    date_trunc(\"hour\", tpep_pickup_datetime)  AS hour, \n",
    "    PULocationID AS zone,\n",
    "\n",
    "    SUM(total_amount) AS amount,\n",
    "    COUNT(1) AS number_records\n",
    "\n",
    "FROM \n",
    "    yellow\n",
    "WHERE tpep_pickup_datetime >= '2020-01-01 00:00:00'\n",
    "GROUP BY \n",
    "    1, 2\n",
    "```"
   ]
  },
  {
   "cell_type": "code",
   "execution_count": 3,
   "id": "26d77183-3c63-4231-a2bb-dbfeb7f24a8c",
   "metadata": {},
   "outputs": [],
   "source": [
    "rdd = df_green  \\\n",
    "    .select('lpep_pickup_datetime', 'PULocationID', 'total_amount') \\\n",
    "    .rdd"
   ]
  },
  {
   "cell_type": "code",
   "execution_count": 4,
   "id": "26978f05-d289-4399-bca6-39dc8ec48dcb",
   "metadata": {},
   "outputs": [],
   "source": [
    "from datetime import datetime\n",
    "from collections import namedtuple\n",
    "from pyspark.sql import types\n",
    "import pandas as pd"
   ]
  },
  {
   "cell_type": "code",
   "execution_count": 5,
   "id": "a6144f96-273d-489d-bd52-98f26d3f2d66",
   "metadata": {},
   "outputs": [],
   "source": [
    "start = datetime(year = 2020, month=1, day=1)\n",
    "\n",
    "def filteroutliers(row):\n",
    "    return row.lpep_pickup_datetime>=start"
   ]
  },
  {
   "cell_type": "code",
   "execution_count": 6,
   "id": "6d6b3f49-08ae-48a9-b8c2-b6a1bfa6fe37",
   "metadata": {},
   "outputs": [
    {
     "name": "stderr",
     "output_type": "stream",
     "text": [
      "                                                                                \r"
     ]
    }
   ],
   "source": [
    "rows = rdd.take(1)\n",
    "row = rows[0]"
   ]
  },
  {
   "cell_type": "code",
   "execution_count": 7,
   "id": "6d5b95e6-d041-4a98-8c39-1785fbfb6fd2",
   "metadata": {},
   "outputs": [
    {
     "data": {
      "text/plain": [
       "datetime.datetime(2020, 1, 19, 1, 0)"
      ]
     },
     "execution_count": 7,
     "metadata": {},
     "output_type": "execute_result"
    }
   ],
   "source": [
    "row.lpep_pickup_datetime.replace(minute=0, second=0, microsecond=0)"
   ]
  },
  {
   "cell_type": "code",
   "execution_count": 8,
   "id": "f2136249-b0e7-4a3e-9377-7196133ff874",
   "metadata": {},
   "outputs": [
    {
     "data": {
      "text/plain": [
       "Row(lpep_pickup_datetime=datetime.datetime(2020, 1, 19, 1, 55, 32), PULocationID=181, total_amount=25.05)"
      ]
     },
     "execution_count": 8,
     "metadata": {},
     "output_type": "execute_result"
    }
   ],
   "source": [
    "row"
   ]
  },
  {
   "cell_type": "code",
   "execution_count": 9,
   "id": "4f4b8612-48c6-475f-ad5f-efffe4c63766",
   "metadata": {},
   "outputs": [],
   "source": [
    "def prep_for_grouping(row):\n",
    "    hour =row.lpep_pickup_datetime.replace(minute=0, second=0, microsecond=0)\n",
    "    zone = row.PULocationID \n",
    "    key = (hour, zone)\n",
    "\n",
    "    amount = row.total_amount\n",
    "    count = 1\n",
    "    value = (amount, count)\n",
    "\n",
    "    return (key, value)"
   ]
  },
  {
   "cell_type": "code",
   "execution_count": 10,
   "id": "5dac4882-bccb-496e-8d7b-420c634b4578",
   "metadata": {},
   "outputs": [],
   "source": [
    "def calculate_revenue(left_value, right_value):\n",
    "    left_amount, left_count = left_value\n",
    "    right_amount, right_count = right_value\n",
    "\n",
    "    output_amount = left_amount + right_amount\n",
    "    output_count = left_count + right_count\n",
    "    \n",
    "    return (output_amount, output_count)"
   ]
  },
  {
   "cell_type": "code",
   "execution_count": 11,
   "id": "f2ca6fde-fd84-4147-a88d-c97de119c012",
   "metadata": {},
   "outputs": [],
   "source": [
    "RevenueRow = namedtuple('RevenueRow', ['hour', 'zone', 'revenue', 'count' ])"
   ]
  },
  {
   "cell_type": "code",
   "execution_count": 12,
   "id": "19aa1444-c85a-41c5-b8d2-7767486d1cf9",
   "metadata": {},
   "outputs": [],
   "source": [
    "def unwrap(row):\n",
    "    return RevenueRow(\n",
    "        hour = row[0][0], \n",
    "        zone = row[0][1],\n",
    "        revenue = row[1][0], \n",
    "        count = row[1][1])"
   ]
  },
  {
   "cell_type": "code",
   "execution_count": 13,
   "id": "00ad2673-2fa5-4587-b9df-e09bf6a82cb2",
   "metadata": {},
   "outputs": [],
   "source": [
    "results_schema = types.StructType([\n",
    "    types.StructField('hour', types.TimestampType(), True), \n",
    "    types.StructField('zone', types.IntegerType(), True), \n",
    "    types.StructField('revenue', types.DoubleType(), True), \n",
    "    types.StructField('count', types.IntegerType(), True)])"
   ]
  },
  {
   "cell_type": "code",
   "execution_count": 14,
   "id": "bfe78a77-42bd-4c3f-b722-21d934e72e6c",
   "metadata": {},
   "outputs": [],
   "source": [
    "df_results = rdd \\\n",
    "    .filter(filteroutliers)\\\n",
    "    .map(prep_for_grouping)\\\n",
    "    .reduceByKey(calculate_revenue)\\\n",
    "    .map(unwrap)\\\n",
    "    .toDF(results_schema)"
   ]
  },
  {
   "cell_type": "code",
   "execution_count": null,
   "id": "31885250-8460-4436-bf77-4878d6db753e",
   "metadata": {},
   "outputs": [],
   "source": [
    "df_results.write.parquet('temp/green_revenue')"
   ]
  },
  {
   "cell_type": "code",
   "execution_count": 15,
   "id": "31cbfeb0-a514-421a-ac8c-fde61d338c5b",
   "metadata": {},
   "outputs": [],
   "source": [
    "columns = ['VendorID', 'lpep_pickup_datetime', 'PULocationID', 'DOLocationID', 'trip_distance']\n",
    "\n",
    "duration_rdd = df_green\\\n",
    "    .select(columns)\\\n",
    "    .rdd"
   ]
  },
  {
   "cell_type": "code",
   "execution_count": 16,
   "id": "983e708c-9682-459d-9d3c-1d56af53a9f2",
   "metadata": {},
   "outputs": [],
   "source": [
    "rows=duration_rdd.take(10)"
   ]
  },
  {
   "cell_type": "code",
   "execution_count": 17,
   "id": "5d023b59-1f2f-462c-8a81-9c98f2569d32",
   "metadata": {},
   "outputs": [],
   "source": [
    "df =pd.DataFrame(rows, columns = columns)"
   ]
  },
  {
   "cell_type": "code",
   "execution_count": 18,
   "id": "bb82f08c-660f-4202-b1c4-d411b818f4d7",
   "metadata": {},
   "outputs": [],
   "source": [
    "def model_prediction(df):\n",
    "    #y_pred = model.predict(df) # define model first\n",
    "    y_pred = df.trip_distance*5\n",
    "    return y_pred"
   ]
  },
  {
   "cell_type": "code",
   "execution_count": 19,
   "id": "747b3108-0f66-4b58-bb6d-8de65094282c",
   "metadata": {},
   "outputs": [],
   "source": [
    "def apply_model_in_batch(rows):\n",
    "    df = pd.DataFrame(rows, columns = columns)\n",
    "    predictions = model_prediction(df)\n",
    "    df['predicted_duration'] = predictions\n",
    "    \n",
    "    for row in df.itertuples():\n",
    "        yield row"
   ]
  },
  {
   "cell_type": "code",
   "execution_count": 20,
   "id": "9b5b6bb4-b869-49ab-b3fc-ef0433dc5256",
   "metadata": {},
   "outputs": [
    {
     "name": "stderr",
     "output_type": "stream",
     "text": [
      "                                                                                \r"
     ]
    }
   ],
   "source": [
    "df_predicts = duration_rdd \\\n",
    "    .mapPartitions(apply_model_in_batch)\\\n",
    "    .toDF()\\\n",
    "    .drop('index')"
   ]
  },
  {
   "cell_type": "code",
   "execution_count": 22,
   "id": "93e0ca37-0a07-4d88-98a4-ae10291eda85",
   "metadata": {},
   "outputs": [
    {
     "name": "stderr",
     "output_type": "stream",
     "text": [
      "[Stage 5:>                                                          (0 + 1) / 1]\r"
     ]
    },
    {
     "name": "stdout",
     "output_type": "stream",
     "text": [
      "+------------------+\n",
      "|predicted_duration|\n",
      "+------------------+\n",
      "|             31.25|\n",
      "|             12.75|\n",
      "|             11.05|\n",
      "|54.349999999999994|\n",
      "|             91.75|\n",
      "|               3.1|\n",
      "|11.899999999999999|\n",
      "|              4.45|\n",
      "|              4.85|\n",
      "|              15.1|\n",
      "|             30.65|\n",
      "|              3.55|\n",
      "|               6.7|\n",
      "|               3.5|\n",
      "|              8.95|\n",
      "|             39.95|\n",
      "|              14.2|\n",
      "|              30.9|\n",
      "|               5.5|\n",
      "|               8.8|\n",
      "+------------------+\n",
      "only showing top 20 rows\n",
      "\n"
     ]
    },
    {
     "name": "stderr",
     "output_type": "stream",
     "text": [
      "                                                                                \r"
     ]
    }
   ],
   "source": [
    "df_predicts.select('predicted_duration').show()"
   ]
  },
  {
   "cell_type": "code",
   "execution_count": null,
   "id": "93683177-ca62-45b6-b4be-10d29ec35a73",
   "metadata": {},
   "outputs": [],
   "source": []
  }
 ],
 "metadata": {
  "kernelspec": {
   "display_name": "Python 3 (ipykernel)",
   "language": "python",
   "name": "python3"
  },
  "language_info": {
   "codemirror_mode": {
    "name": "ipython",
    "version": 3
   },
   "file_extension": ".py",
   "mimetype": "text/x-python",
   "name": "python",
   "nbconvert_exporter": "python",
   "pygments_lexer": "ipython3",
   "version": "3.10.0"
  }
 },
 "nbformat": 4,
 "nbformat_minor": 5
}
